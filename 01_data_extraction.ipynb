{
  "nbformat": 4,
  "nbformat_minor": 0,
  "metadata": {
    "colab": {
      "provenance": [],
      "authorship_tag": "ABX9TyPXygUuYXSFTlTrKreiduNS",
      "include_colab_link": true
    },
    "kernelspec": {
      "name": "python3",
      "display_name": "Python 3"
    },
    "language_info": {
      "name": "python"
    }
  },
  "cells": [
    {
      "cell_type": "markdown",
      "metadata": {
        "id": "view-in-github",
        "colab_type": "text"
      },
      "source": [
        "<a href=\"https://colab.research.google.com/github/simonopravil/nn_to_al-/blob/main/01_data_extraction.ipynb\" target=\"_parent\"><img src=\"https://colab.research.google.com/assets/colab-badge.svg\" alt=\"Open In Colab\"/></a>"
      ]
    },
    {
      "cell_type": "code",
      "execution_count": null,
      "metadata": {
        "id": "2uDg1J-01N3K"
      },
      "outputs": [],
      "source": [
        "!pip install geopandas\n",
        "!pip install eemont\n",
        "!pip install geemap\n",
        "!pip install eerepr --ignore-requires-python"
      ]
    },
    {
      "cell_type": "code",
      "source": [
        "from google.colab import drive\n",
        "drive.mount('/content/drive')"
      ],
      "metadata": {
        "colab": {
          "base_uri": "https://localhost:8080/"
        },
        "id": "mxOgCdoy1bq0",
        "outputId": "9036d9b1-e69b-41ca-8afb-7f9e15ddde3b"
      },
      "execution_count": null,
      "outputs": [
        {
          "output_type": "stream",
          "name": "stdout",
          "text": [
            "Mounted at /content/drive\n"
          ]
        }
      ]
    },
    {
      "cell_type": "code",
      "source": [
        "#import libraries\n",
        "import ee, eemont, geemap, eerepr\n",
        "import pandas as pd\n",
        "from matplotlib import pyplot as plt\n",
        "import numpy as np\n",
        "import geopandas as gpd"
      ],
      "metadata": {
        "id": "lt51HwM21xrB"
      },
      "execution_count": null,
      "outputs": []
    },
    {
      "cell_type": "code",
      "source": [
        "ee.Authenticate()\n",
        "ee.Initialize()"
      ],
      "metadata": {
        "colab": {
          "base_uri": "https://localhost:8080/"
        },
        "id": "St4mmEi23COw",
        "outputId": "9a01795f-3e0b-4b42-ea28-63f735bbc00b"
      },
      "execution_count": null,
      "outputs": [
        {
          "output_type": "stream",
          "name": "stdout",
          "text": [
            "To authorize access needed by Earth Engine, open the following URL in a web browser and follow the instructions. If the web browser does not start automatically, please manually browse the URL below.\n",
            "\n",
            "    https://code.earthengine.google.com/client-auth?scopes=https%3A//www.googleapis.com/auth/earthengine%20https%3A//www.googleapis.com/auth/devstorage.full_control&request_id=xx-C0OAO65_KJtPcMOlp_PGYaTKpRg5ToVoGyQH0l2g&tc=GAweWUzCQs5XUrUln6DSkEA3MBRCmYjrbhzNQL7YjcI&cc=2jSbaq26Bawp7zcSkb7P6Is11dwclBJIgKQzRszM23M\n",
            "\n",
            "The authorization workflow will generate a code, which you should paste in the box below.\n",
            "Enter verification code: 4/1AfgeXvvY6YOwpUWCAB7oSHkUD39OGOE1119JgCzho9KvyffqiP1YFI5XTCE\n",
            "\n",
            "Successfully saved authorization token.\n"
          ]
        }
      ]
    },
    {
      "cell_type": "code",
      "source": [
        "samples_shp = '/content/drive/MyDrive/PhD/Projects/CroplandGrasslands/SHP/AOI.shp'\n",
        "tat = gpd.read_file(samples_shp)\n",
        "samples = geemap.shp_to_ee(samples_shp)"
      ],
      "metadata": {
        "id": "omVNBfRl3D45"
      },
      "execution_count": null,
      "outputs": []
    },
    {
      "cell_type": "code",
      "source": [
        "# Here we define some usefull function that we can map over ImageColelction\n",
        "def clp (image, geometry):\n",
        "  \"\"\"\n",
        "  This function return cliped image for \n",
        "  every image in ImageCollection\n",
        "  \"\"\"\n",
        "  return image.clip(geometry)"
      ],
      "metadata": {
        "id": "iBwADMjT-Pvx"
      },
      "execution_count": null,
      "outputs": []
    },
    {
      "cell_type": "code",
      "source": [
        "tat"
      ],
      "metadata": {
        "colab": {
          "base_uri": "https://localhost:8080/",
          "height": 175
        },
        "id": "LdkdaTYg-ufS",
        "outputId": "3405d7e4-e3c1-4e8b-8fd6-fed23ba9d801"
      },
      "execution_count": null,
      "outputs": [
        {
          "output_type": "execute_result",
          "data": {
            "text/plain": [
              "   id                                           geometry\n",
              "0   1  POLYGON ((240616.544 5365117.825, 285247.258 5...\n",
              "1   2  POLYGON ((375378.117 5445829.864, 421168.072 5...\n",
              "2   3  POLYGON ((559518.660 5394995.142, 582768.654 5...\n",
              "3   4  POLYGON ((577448.026 5469304.461, 578670.024 5..."
            ],
            "text/html": [
              "\n",
              "  <div id=\"df-71dede2f-b114-48c2-83a2-e6944a84d7b1\">\n",
              "    <div class=\"colab-df-container\">\n",
              "      <div>\n",
              "<style scoped>\n",
              "    .dataframe tbody tr th:only-of-type {\n",
              "        vertical-align: middle;\n",
              "    }\n",
              "\n",
              "    .dataframe tbody tr th {\n",
              "        vertical-align: top;\n",
              "    }\n",
              "\n",
              "    .dataframe thead th {\n",
              "        text-align: right;\n",
              "    }\n",
              "</style>\n",
              "<table border=\"1\" class=\"dataframe\">\n",
              "  <thead>\n",
              "    <tr style=\"text-align: right;\">\n",
              "      <th></th>\n",
              "      <th>id</th>\n",
              "      <th>geometry</th>\n",
              "    </tr>\n",
              "  </thead>\n",
              "  <tbody>\n",
              "    <tr>\n",
              "      <th>0</th>\n",
              "      <td>1</td>\n",
              "      <td>POLYGON ((240616.544 5365117.825, 285247.258 5...</td>\n",
              "    </tr>\n",
              "    <tr>\n",
              "      <th>1</th>\n",
              "      <td>2</td>\n",
              "      <td>POLYGON ((375378.117 5445829.864, 421168.072 5...</td>\n",
              "    </tr>\n",
              "    <tr>\n",
              "      <th>2</th>\n",
              "      <td>3</td>\n",
              "      <td>POLYGON ((559518.660 5394995.142, 582768.654 5...</td>\n",
              "    </tr>\n",
              "    <tr>\n",
              "      <th>3</th>\n",
              "      <td>4</td>\n",
              "      <td>POLYGON ((577448.026 5469304.461, 578670.024 5...</td>\n",
              "    </tr>\n",
              "  </tbody>\n",
              "</table>\n",
              "</div>\n",
              "      <button class=\"colab-df-convert\" onclick=\"convertToInteractive('df-71dede2f-b114-48c2-83a2-e6944a84d7b1')\"\n",
              "              title=\"Convert this dataframe to an interactive table.\"\n",
              "              style=\"display:none;\">\n",
              "        \n",
              "  <svg xmlns=\"http://www.w3.org/2000/svg\" height=\"24px\"viewBox=\"0 0 24 24\"\n",
              "       width=\"24px\">\n",
              "    <path d=\"M0 0h24v24H0V0z\" fill=\"none\"/>\n",
              "    <path d=\"M18.56 5.44l.94 2.06.94-2.06 2.06-.94-2.06-.94-.94-2.06-.94 2.06-2.06.94zm-11 1L8.5 8.5l.94-2.06 2.06-.94-2.06-.94L8.5 2.5l-.94 2.06-2.06.94zm10 10l.94 2.06.94-2.06 2.06-.94-2.06-.94-.94-2.06-.94 2.06-2.06.94z\"/><path d=\"M17.41 7.96l-1.37-1.37c-.4-.4-.92-.59-1.43-.59-.52 0-1.04.2-1.43.59L10.3 9.45l-7.72 7.72c-.78.78-.78 2.05 0 2.83L4 21.41c.39.39.9.59 1.41.59.51 0 1.02-.2 1.41-.59l7.78-7.78 2.81-2.81c.8-.78.8-2.07 0-2.86zM5.41 20L4 18.59l7.72-7.72 1.47 1.35L5.41 20z\"/>\n",
              "  </svg>\n",
              "      </button>\n",
              "      \n",
              "  <style>\n",
              "    .colab-df-container {\n",
              "      display:flex;\n",
              "      flex-wrap:wrap;\n",
              "      gap: 12px;\n",
              "    }\n",
              "\n",
              "    .colab-df-convert {\n",
              "      background-color: #E8F0FE;\n",
              "      border: none;\n",
              "      border-radius: 50%;\n",
              "      cursor: pointer;\n",
              "      display: none;\n",
              "      fill: #1967D2;\n",
              "      height: 32px;\n",
              "      padding: 0 0 0 0;\n",
              "      width: 32px;\n",
              "    }\n",
              "\n",
              "    .colab-df-convert:hover {\n",
              "      background-color: #E2EBFA;\n",
              "      box-shadow: 0px 1px 2px rgba(60, 64, 67, 0.3), 0px 1px 3px 1px rgba(60, 64, 67, 0.15);\n",
              "      fill: #174EA6;\n",
              "    }\n",
              "\n",
              "    [theme=dark] .colab-df-convert {\n",
              "      background-color: #3B4455;\n",
              "      fill: #D2E3FC;\n",
              "    }\n",
              "\n",
              "    [theme=dark] .colab-df-convert:hover {\n",
              "      background-color: #434B5C;\n",
              "      box-shadow: 0px 1px 3px 1px rgba(0, 0, 0, 0.15);\n",
              "      filter: drop-shadow(0px 1px 2px rgba(0, 0, 0, 0.3));\n",
              "      fill: #FFFFFF;\n",
              "    }\n",
              "  </style>\n",
              "\n",
              "      <script>\n",
              "        const buttonEl =\n",
              "          document.querySelector('#df-71dede2f-b114-48c2-83a2-e6944a84d7b1 button.colab-df-convert');\n",
              "        buttonEl.style.display =\n",
              "          google.colab.kernel.accessAllowed ? 'block' : 'none';\n",
              "\n",
              "        async function convertToInteractive(key) {\n",
              "          const element = document.querySelector('#df-71dede2f-b114-48c2-83a2-e6944a84d7b1');\n",
              "          const dataTable =\n",
              "            await google.colab.kernel.invokeFunction('convertToInteractive',\n",
              "                                                     [key], {});\n",
              "          if (!dataTable) return;\n",
              "\n",
              "          const docLinkHtml = 'Like what you see? Visit the ' +\n",
              "            '<a target=\"_blank\" href=https://colab.research.google.com/notebooks/data_table.ipynb>data table notebook</a>'\n",
              "            + ' to learn more about interactive tables.';\n",
              "          element.innerHTML = '';\n",
              "          dataTable['output_type'] = 'display_data';\n",
              "          await google.colab.output.renderOutput(dataTable, element);\n",
              "          const docLink = document.createElement('div');\n",
              "          docLink.innerHTML = docLinkHtml;\n",
              "          element.appendChild(docLink);\n",
              "        }\n",
              "      </script>\n",
              "    </div>\n",
              "  </div>\n",
              "  "
            ]
          },
          "metadata": {},
          "execution_count": 12
        }
      ]
    },
    {
      "cell_type": "code",
      "source": [
        "for i in tat.id:\n",
        "  select = tat[tat['id'] == i].to_crs('EPSG:4326')\n",
        "  convert = geemap.geopandas_to_ee(select)\n",
        "\n",
        "  S2_items = (ee.ImageCollection('COPERNICUS/S2_SR')\n",
        "      .filterBounds(convert) #Filter ImageCollection by Spatial Extent\n",
        "      .filterDate('2018-04-01','2018-10-30') #Filter ImageCollection by time\n",
        "      .filter(ee.Filter.lt('CLOUDY_PIXEL_PERCENTAGE', 25))\n",
        "      .maskClouds()\n",
        "      .select(['B2', 'B3', 'B4', 'B8']))\n",
        "  \n",
        "  S2_median = S2_items.median().clip(convert.geometry())\n",
        "  S2_first = S2_items.first().clip(convert.geometry())\n",
        "\n",
        "  task = ee.batch.Export.image.toDrive(**{\n",
        "    'image': S2_median,\n",
        "    'description': 's2cnn{zone}'.format(zone = i),\n",
        "    'folder':'geeExport',\n",
        "    'scale': 10\n",
        "    })\n",
        "  task.start()"
      ],
      "metadata": {
        "id": "qPZ_b3Ad-dvY"
      },
      "execution_count": null,
      "outputs": []
    },
    {
      "cell_type": "code",
      "source": [],
      "metadata": {
        "id": "2L0nWsBW-75Y"
      },
      "execution_count": null,
      "outputs": []
    }
  ]
}