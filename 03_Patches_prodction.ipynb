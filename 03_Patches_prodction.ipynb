{
  "nbformat": 4,
  "nbformat_minor": 0,
  "metadata": {
    "colab": {
      "provenance": [],
      "authorship_tag": "ABX9TyPfQnYXs7Fuughq7Zy8FOqG",
      "include_colab_link": true
    },
    "kernelspec": {
      "name": "python3",
      "display_name": "Python 3"
    },
    "language_info": {
      "name": "python"
    }
  },
  "cells": [
    {
      "cell_type": "markdown",
      "metadata": {
        "id": "view-in-github",
        "colab_type": "text"
      },
      "source": [
        "<a href=\"https://colab.research.google.com/github/simonopravil/nn_to_al-/blob/main/03_Patches_prodction.ipynb\" target=\"_parent\"><img src=\"https://colab.research.google.com/assets/colab-badge.svg\" alt=\"Open In Colab\"/></a>"
      ]
    },
    {
      "cell_type": "code",
      "execution_count": null,
      "metadata": {
        "id": "Or2mQrc9Avu6"
      },
      "outputs": [],
      "source": [
        "!pip install GeoPatch"
      ]
    },
    {
      "cell_type": "code",
      "source": [
        "from GeoPatch import TrainPatch"
      ],
      "metadata": {
        "id": "NHv5ek0lsi4t"
      },
      "execution_count": null,
      "outputs": []
    },
    {
      "cell_type": "code",
      "source": [
        "from google.colab import drive\n",
        "drive.mount('/content/drive')"
      ],
      "metadata": {
        "colab": {
          "base_uri": "https://localhost:8080/"
        },
        "id": "mCtUT4jir7kv",
        "outputId": "1be88812-6d3f-431d-86dd-b3372a590fd6"
      },
      "execution_count": null,
      "outputs": [
        {
          "output_type": "stream",
          "name": "stdout",
          "text": [
            "Mounted at /content/drive\n"
          ]
        }
      ]
    },
    {
      "cell_type": "code",
      "source": [
        "patch= Generator(image=\"/content/drive/MyDrive/PhD/Projects/CroplandGrasslands/tiff/images/s2cnn4.tif\", label=\"/content/drive/MyDrive/PhD/Projects/CroplandGrasslands/tiff/labels/label4.tif\",\n",
        "       patch_size=256, stride=128, channel_first=True)"
      ],
      "metadata": {
        "id": "REPI9k_vsIf6"
      },
      "execution_count": null,
      "outputs": []
    },
    {
      "cell_type": "code",
      "source": [
        "patch.data_dimension()"
      ],
      "metadata": {
        "colab": {
          "base_uri": "https://localhost:8080/"
        },
        "id": "IB8kVNUoshoK",
        "outputId": "13e6b26b-7901-4cc6-fc35-6f051fca1a03"
      },
      "execution_count": null,
      "outputs": [
        {
          "output_type": "stream",
          "name": "stdout",
          "text": [
            "############################################\n",
            " the shape of image is: (4, 2254, 4345) \n",
            " the shape of label is: (2254, 4345) \n",
            "############################################\n"
          ]
        }
      ]
    },
    {
      "cell_type": "code",
      "source": [
        "patch.patch_info()"
      ],
      "metadata": {
        "colab": {
          "base_uri": "https://localhost:8080/"
        },
        "id": "qQBhrWh3smPp",
        "outputId": "483aa047-e09b-4dfc-d219-75dd4f0c2946"
      },
      "execution_count": null,
      "outputs": [
        {
          "output_type": "stream",
          "name": "stdout",
          "text": [
            "       \n",
            "#######################################################################################\n",
            "The effective X-dimension of the input data for patch generation is from 0 to 2176\n",
            "The effective Y-dimension of the input data for patch generation is from 0 to 4224\n",
            "The number of total non-augmented patches that can be generated\n",
            "based on patch size (256*256) and stride (128) is \"465\"\n",
            "#######################################################################################\n",
            "                                                                        \n"
          ]
        }
      ]
    },
    {
      "cell_type": "code",
      "source": [
        "patch.save_Geotif(folder_name=\"/content/drive/MyDrive/PhD/Projects/CroplandGrasslands/tiff/patches/p4\", only_label=True)"
      ],
      "metadata": {
        "colab": {
          "base_uri": "https://localhost:8080/"
        },
        "id": "_5l8ozQnsnZP",
        "outputId": "cf2bbd93-76d8-40f2-b062-e430b1f8d2aa"
      },
      "execution_count": null,
      "outputs": [
        {
          "output_type": "stream",
          "name": "stderr",
          "text": [
            "Patch Counter:  83%|████████▎ | 386/465 [00:26<00:05, 14.80 Patch/s]"
          ]
        },
        {
          "output_type": "stream",
          "name": "stdout",
          "text": [
            "#######################################################################################\n",
            "386 patches, which are %83 of totall patches, are saved as \".tif\" format in \"/content\\/content/drive/MyDrive/PhD/Projects/CroplandGrasslands/tiff/patches/p4\"\n",
            "#######################################################################################\n"
          ]
        },
        {
          "output_type": "stream",
          "name": "stderr",
          "text": [
            "\n"
          ]
        }
      ]
    },
    {
      "cell_type": "code",
      "source": [],
      "metadata": {
        "id": "OE-AXK1m1zVS"
      },
      "execution_count": null,
      "outputs": []
    }
  ]
}