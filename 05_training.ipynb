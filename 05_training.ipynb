{
  "nbformat": 4,
  "nbformat_minor": 0,
  "metadata": {
    "colab": {
      "provenance": [],
      "authorship_tag": "ABX9TyMI/BCWDkscJBlvmVBNu6NB",
      "include_colab_link": true
    },
    "kernelspec": {
      "name": "python3",
      "display_name": "Python 3"
    },
    "language_info": {
      "name": "python"
    },
    "accelerator": "GPU",
    "gpuClass": "standard"
  },
  "cells": [
    {
      "cell_type": "markdown",
      "metadata": {
        "id": "view-in-github",
        "colab_type": "text"
      },
      "source": [
        "<a href=\"https://colab.research.google.com/github/simonopravil/nn_to_al-/blob/main/05_training.ipynb\" target=\"_parent\"><img src=\"https://colab.research.google.com/assets/colab-badge.svg\" alt=\"Open In Colab\"/></a>"
      ]
    },
    {
      "cell_type": "code",
      "execution_count": null,
      "metadata": {
        "id": "9zosL5SoNFLr"
      },
      "outputs": [],
      "source": [
        "!pip install segmentation-models\n",
        "!pip install rasterio"
      ]
    },
    {
      "cell_type": "code",
      "source": [
        "from google.colab import drive\n",
        "drive.mount('/content/drive')"
      ],
      "metadata": {
        "colab": {
          "base_uri": "https://localhost:8080/"
        },
        "id": "qtRJIhTLNVhW",
        "outputId": "9fef6cf2-c6bf-450a-da15-b910778cc574"
      },
      "execution_count": null,
      "outputs": [
        {
          "output_type": "stream",
          "name": "stdout",
          "text": [
            "Mounted at /content/drive\n"
          ]
        }
      ]
    },
    {
      "cell_type": "code",
      "source": [
        "\n",
        "import os, random\n",
        "import rasterio\n",
        "import numpy as np\n",
        "import tensorflow as tf\n",
        "os.environ[\"SM_FRAMEWORK\"] = \"tf.keras\"\n",
        "import segmentation_models as sm\n",
        "from segmentation_models.losses import BinaryCELoss\n",
        "from rasterio.plot import show\n",
        "from matplotlib import pyplot as plt\n",
        "from tensorflow.keras.metrics import MeanIoU\n",
        "from random import choice, sample\n",
        "from skimage.io import imread\n",
        "from skimage.transform import rotate\n",
        "from tensorflow.keras.utils import to_categorical"
      ],
      "metadata": {
        "colab": {
          "base_uri": "https://localhost:8080/"
        },
        "id": "pEM5xFwZNZfM",
        "outputId": "069c7ca2-f4f7-44c8-a23c-6240bf7fd71c"
      },
      "execution_count": null,
      "outputs": [
        {
          "output_type": "stream",
          "name": "stdout",
          "text": [
            "Segmentation Models: using `tf.keras` framework.\n"
          ]
        }
      ]
    },
    {
      "cell_type": "code",
      "source": [
        "def ImageDataGenerator(train_img_dir,train_mask_dir , batch_size=32,\n",
        "                           rotation_range=0, horizontal_flip=False,\n",
        "                           vertical_flip=False):\n",
        "\n",
        "    while True:\n",
        "        # select batch_size number of samples without replacement\n",
        "\n",
        "        img_list = sorted(os.listdir(train_img_dir))\n",
        "        msk_list = sorted(os.listdir(train_mask_dir))\n",
        "        x_sub, y_sub = zip(*sample(list(zip(img_list, msk_list)), batch_size))\n",
        "\n",
        "        # array for images\n",
        "        batch_X = []\n",
        "        batch_Y = []\n",
        "        # loop over images of the current batch\n",
        "        for idx, input_path in  enumerate(zip(x_sub, y_sub)):\n",
        "            image = np.array(imread(train_img_dir+input_path[0]), dtype=float)\n",
        "            mask = np.array(imread(train_mask_dir+input_path[1]), dtype=float)\n",
        "            # process image\n",
        "            if horizontal_flip:\n",
        "                # randomly flip image up/down\n",
        "                if choice([True, False]):\n",
        "                    image = np.flipud(image)\n",
        "                    mask = np.flipud(mask)\n",
        "            if vertical_flip:\n",
        "                # randomly flip image left/right\n",
        "                if choice([True, False]):\n",
        "                    image = np.fliplr(image)\n",
        "                    mask = np.fliplr(mask)\n",
        "            # rotate image by random angle between\n",
        "            # -rotation_range <= angle < rotation_range\n",
        "            if rotation_range != 0:\n",
        "                angle = np.random.uniform(low=-abs(rotation_range),\n",
        "                                          high=abs(rotation_range))\n",
        "                image = rotate(image, angle, mode='reflect',\n",
        "                               order=1, preserve_range=True)\n",
        "                mask = rotate(mask, angle, mode='reflect',\n",
        "                               order=1, preserve_range=True)\n",
        "            # put all together\n",
        "            batch_X += [image]\n",
        "            batch_Y += [mask]\n",
        "        # convert lists to np.array\n",
        "        X = np.array(batch_X)\n",
        "        Y = np.array(batch_Y)\n",
        "\n",
        "        yield(X, Y)"
      ],
      "metadata": {
        "id": "RFCNgXzjjUKw"
      },
      "execution_count": null,
      "outputs": []
    },
    {
      "cell_type": "code",
      "source": [
        "# Define Generator for images and masks so we can read them directly from the drive. \n",
        "\n",
        "seed=24\n",
        "batch_size= 32\n",
        "n_classes=2\n",
        "\n",
        "from sklearn.preprocessing import MinMaxScaler\n",
        "scaler = MinMaxScaler()\n",
        "#from tensorflow.keras.utils import to_categorical\n",
        "\n",
        "#Use this to preprocess input for transfer learning\n",
        "BACKBONE = 'resnet34'\n",
        "preprocess_input = sm.get_preprocessing(BACKBONE)\n",
        "\n",
        "#Define a function to perform additional preprocessing after datagen.\n",
        "#For example, scale images, convert masks to categorical, etc. \n",
        "def preprocess_data(img, mask, num_class):\n",
        "    #Scale images\n",
        "    img = scaler.fit_transform(img.reshape(-1, img.shape[-1])).reshape(img.shape)\n",
        "    img = preprocess_input(img)\n",
        "    img = np.nan_to_num(img) #Preprocess based on the pretrained backbone...\n",
        "    #Convert mask to one-hot\n",
        "    mask = to_categorical(mask, num_class) #OUT\n",
        "      \n",
        "    return (img,mask)"
      ],
      "metadata": {
        "id": "L5JJUyNDDNd5"
      },
      "execution_count": null,
      "outputs": []
    },
    {
      "cell_type": "code",
      "source": [
        "#Define the generator.\n",
        "#We are not doing any rotation or zoom to make sure mask values are not interpolated.\n",
        "#It is important to keep pixel values in mask as 0, 1, 2, 3, .....\n",
        "def Generator(train_img_dir, train_mask_dir, num_class):\n",
        "    \n",
        "    image_generator = ImageDataGenerator(train_img_dir,\n",
        "                                         train_mask_dir , \n",
        "                                         batch_size=32,\n",
        "                                         rotation_range=0, \n",
        "                                         horizontal_flip=True,\n",
        "                                         vertical_flip=True)\n",
        "    \n",
        "    for (img, mask) in image_generator:\n",
        "        img, mask = preprocess_data(img, mask, num_class)\n",
        "        yield (img, mask)"
      ],
      "metadata": {
        "id": "zgrk-0k2DtOB"
      },
      "execution_count": null,
      "outputs": []
    },
    {
      "cell_type": "code",
      "source": [
        "train_img_path = \"/content/drive/MyDrive/PhD/Projects/CroplandGrasslands/tiff/patches_splited/train_images/train/\"\n",
        "train_mask_path = \"/content/drive/MyDrive/PhD/Projects/CroplandGrasslands/tiff/patches_splited/train_masks/train/\"\n",
        "train_img_gen = Generator(train_img_path, train_mask_path, num_class=2)\n",
        "\n",
        "val_img_path = \"/content/drive/MyDrive/PhD/Projects/CroplandGrasslands/tiff/patches_splited/val_images/val/\"\n",
        "val_mask_path = \"/content/drive/MyDrive/PhD/Projects/CroplandGrasslands/tiff/patches_splited/val_masks/val/\"\n",
        "val_img_gen = Generator(val_img_path, val_mask_path, num_class=2)\n",
        "\n",
        "#Make sure the generator is working and that images and masks are indeed lined up. \n",
        "#Verify generator.... In python 3 next() is renamed as __next__()\n",
        "x, y = train_img_gen.__next__()"
      ],
      "metadata": {
        "id": "3j-vdga_FWeF"
      },
      "execution_count": null,
      "outputs": []
    },
    {
      "cell_type": "code",
      "source": [
        "#Define the model metrcis and load model. \n",
        "\n",
        "num_train_imgs = len(os.listdir(train_img_path))\n",
        "num_val_images = len(os.listdir(val_img_path))\n",
        "steps_per_epoch = num_train_imgs//batch_size\n",
        "val_steps_per_epoch = num_val_images//batch_size\n",
        "\n",
        "\n",
        "IMG_HEIGHT = x.shape[1]\n",
        "IMG_WIDTH  = x.shape[2]\n",
        "IMG_CHANNELS = x.shape[3]\n",
        "\n",
        "n_classes=2"
      ],
      "metadata": {
        "id": "6D4hOFlHdiw1"
      },
      "execution_count": null,
      "outputs": []
    },
    {
      "cell_type": "code",
      "source": [
        "model = sm.Unet(BACKBONE, encoder_weights=None, \n",
        "                input_shape=(IMG_HEIGHT, IMG_WIDTH, IMG_CHANNELS),\n",
        "                classes=n_classes, activation='softmax')\n",
        "model.compile('Adam', loss= tf.losses.categorical_crossentropy, metrics=[sm.metrics.iou_score, 'accuracy'])"
      ],
      "metadata": {
        "id": "e8RDc4_1eQYS"
      },
      "execution_count": null,
      "outputs": []
    },
    {
      "cell_type": "code",
      "source": [
        "history=model.fit(train_img_gen,\n",
        "          steps_per_epoch=steps_per_epoch,\n",
        "          epochs=10,\n",
        "          verbose=1,\n",
        "          validation_data=val_img_gen,\n",
        "          validation_steps=val_steps_per_epoch)"
      ],
      "metadata": {
        "id": "dYOuidZSeXCU"
      },
      "execution_count": null,
      "outputs": []
    },
    {
      "cell_type": "code",
      "source": [
        "def learning_curve(history, figsize=(8, 8), debug_type = 'both'):\n",
        "    hist = history\n",
        "\n",
        "    if debug_type == 'loss' or debug_type == 'both':\n",
        "        plt.figure(figsize=figsize)\n",
        "        plt.plot(hist['loss'])\n",
        "        plt.plot(hist['val_loss'])\n",
        "        plt.xlabel('epochs')\n",
        "        plt.ylabel('loss')\n",
        "        plt.legend(['Training loss', 'Validation loss'])\n",
        "    if debug_type == 'iou_score' or debug_type == 'both':\n",
        "        plt.figure(figsize=figsize)\n",
        "        plt.plot(hist['iou_score'])\n",
        "        plt.plot(hist['val_iou_score'])\n",
        "        plt.xlabel('epochs')\n",
        "        plt.ylabel('loss')\n",
        "        plt.legend(['Training iou_score', 'Validation iou_score'])"
      ],
      "metadata": {
        "id": "AcgdPHpZkng6"
      },
      "execution_count": null,
      "outputs": []
    },
    {
      "cell_type": "code",
      "source": [
        "learning_curve(history.history)"
      ],
      "metadata": {
        "colab": {
          "base_uri": "https://localhost:8080/",
          "height": 977
        },
        "id": "nuF3ZjJLzVFM",
        "outputId": "17057016-b1cf-4d84-ffa9-3c8620f17913"
      },
      "execution_count": null,
      "outputs": [
        {
          "output_type": "display_data",
          "data": {
            "text/plain": [
              "<Figure size 576x576 with 1 Axes>"
            ],
            "image/png": "[encoded data removed]"
          },
          "metadata": {
            "needs_background": "light"
          }
        },
        {
          "output_type": "display_data",
          "data": {
            "text/plain": [
              "<Figure size 576x576 with 1 Axes>"
            ],
            "image/png": "[encoded data removed]"
          },
          "metadata": {
            "needs_background": "light"
          }
        }
      ]
    },
    {
      "cell_type": "code",
      "source": [
        "test_image_batch, test_mask_batch = val_img_gen.__next__()\n",
        "#Convert categorical to integer for visualization and IoU calculation\n",
        "test_mask_batch_argmax = np.argmax(test_mask_batch, axis=3) \n",
        "test_pred_batch = model.predict(test_image_batch)\n",
        "test_pred_batch_argmax = np.argmax(test_pred_batch, axis=3)\n",
        "\n",
        "n_classes = 2\n",
        "IOU_keras = MeanIoU(num_classes=n_classes)  \n",
        "IOU_keras.update_state(test_pred_batch_argmax, test_mask_batch_argmax)\n",
        "print(\"Mean IoU =\", IOU_keras.result().numpy())\n",
        "#######################################################\n",
        "#View a few images, masks and corresponding predictions. \n",
        "img_num = random.randint(0, test_image_batch.shape[0]-1)\n",
        "\n",
        "plt.figure(figsize=(12, 8))\n",
        "plt.subplot(231)\n",
        "plt.title('Testing Image')\n",
        "ep.plot_rgb(\n",
        "    test_image_batch[img_num][...,0:3].swapaxes(0,2), \n",
        "    stretch=True,\n",
        ")\n",
        "#plt.imshow(test_image_batch[img_num][...,0:3])\n",
        "plt.subplot(232)\n",
        "plt.title('Testing Label')\n",
        "plt.imshow(test_mask_batch_argmax[img_num])\n",
        "plt.subplot(233)\n",
        "plt.title('Prediction on test image')\n",
        "plt.imshow(test_pred_batch_argmax[img_num])\n",
        "plt.show()"
      ],
      "metadata": {
        "id": "nDTfY0sYzd8E"
      },
      "execution_count": null,
      "outputs": []
    }
  ]
}